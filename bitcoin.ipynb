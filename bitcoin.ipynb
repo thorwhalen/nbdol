{
 "cells": [
  {
   "cell_type": "markdown",
   "id": "a2782138",
   "metadata": {},
   "source": [
    "# Bitcoin"
   ]
  },
  {
   "cell_type": "markdown",
   "id": "fce7b310",
   "metadata": {},
   "source": [
    "## Setup"
   ]
  },
  {
   "cell_type": "markdown",
   "id": "d799be3a",
   "metadata": {},
   "source": [
    "### Data Parameters"
   ]
  },
  {
   "cell_type": "markdown",
   "id": "ab8ce55e",
   "metadata": {},
   "source": [
    "### Install and Import"
   ]
  },
  {
   "cell_type": "code",
   "execution_count": null,
   "id": "0b624520",
   "metadata": {},
   "outputs": [],
   "source": [
    "import os\n",
    "if not os.getenv('IN_COSMO_DEV_ENV'):\n",
    "    %pip install -q cosmograph tabled cosmodata\n",
    "\n",
    "import tabled\n",
    "import cosmodata\n",
    "\n",
    "from functools import partial\n",
    "from cosmograph import cosmo"
   ]
  },
  {
   "cell_type": "markdown",
   "id": "4d0fc3de",
   "metadata": {},
   "source": [
    "## Load Data"
   ]
  },
  {
   "cell_type": "code",
   "execution_count": null,
   "id": "2ede1393",
   "metadata": {},
   "outputs": [],
   "source": [
    "if ext:\n",
    "    getter = partial(tabled.get_table, ext=ext)\n",
    "else:\n",
    "    getter = tabled.get_table\n",
    "\n",
    "# acquire_data handles caching locally for faster future access\n",
    "data = cosmodata.acquire_data(src, target_filename, getter=getter)"
   ]
  },
  {
   "cell_type": "markdown",
   "id": "a43b14ca",
   "metadata": {},
   "source": [
    "## Explore Data"
   ]
  },
  {
   "cell_type": "code",
   "execution_count": null,
   "id": "a3332fa6",
   "metadata": {},
   "outputs": [],
   "source": [
    "mode = 'short'  # Options: 'short', 'sample', 'stats'\n",
    "exclude_cols = []\n",
    "\n",
    "cosmodata.print_dataframe_info(data, exclude_cols, mode=mode)"
   ]
  }
 ],
 "metadata": {},
 "nbformat": 4,
 "nbformat_minor": 5
}
